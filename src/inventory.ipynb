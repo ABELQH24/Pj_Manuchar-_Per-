{
 "cells": [
  {
   "cell_type": "markdown",
   "metadata": {},
   "source": [
    "# Cálculos de inventarios y reabastecimiento"
   ]
  },
  {
   "cell_type": "markdown",
   "metadata": {},
   "source": [
    "### Importar Datos"
   ]
  },
  {
   "cell_type": "code",
   "execution_count": 352,
   "metadata": {},
   "outputs": [
    {
     "name": "stderr",
     "output_type": "stream",
     "text": [
      "C:\\Users\\user\\AppData\\Local\\Temp\\ipykernel_14980\\2383401631.py:29: FutureWarning: The default of observed=False is deprecated and will be changed to True in a future version of pandas. Pass observed=False to retain current behavior or observed=True to adopt the future default and silence this warning.\n",
      "  df_compras_programadas =df_compras_programadas.groupby(['Año', 'Mes']).sum(numeric_only = True).reset_index()\n"
     ]
    },
    {
     "data": {
      "text/html": [
       "<div>\n",
       "<style scoped>\n",
       "    .dataframe tbody tr th:only-of-type {\n",
       "        vertical-align: middle;\n",
       "    }\n",
       "\n",
       "    .dataframe tbody tr th {\n",
       "        vertical-align: top;\n",
       "    }\n",
       "\n",
       "    .dataframe thead th {\n",
       "        text-align: right;\n",
       "    }\n",
       "</style>\n",
       "<table border=\"1\" class=\"dataframe\">\n",
       "  <thead>\n",
       "    <tr style=\"text-align: right;\">\n",
       "      <th></th>\n",
       "      <th>Producto</th>\n",
       "      <th>Cantidad</th>\n",
       "      <th>UM</th>\n",
       "    </tr>\n",
       "  </thead>\n",
       "  <tbody>\n",
       "    <tr>\n",
       "      <th>0</th>\n",
       "      <td>Producto A</td>\n",
       "      <td>1000</td>\n",
       "      <td>unidades</td>\n",
       "    </tr>\n",
       "    <tr>\n",
       "      <th>1</th>\n",
       "      <td>Producto B</td>\n",
       "      <td>700</td>\n",
       "      <td>unidades</td>\n",
       "    </tr>\n",
       "    <tr>\n",
       "      <th>2</th>\n",
       "      <td>Producto C</td>\n",
       "      <td>600</td>\n",
       "      <td>unidades</td>\n",
       "    </tr>\n",
       "    <tr>\n",
       "      <th>3</th>\n",
       "      <td>Producto D</td>\n",
       "      <td>800</td>\n",
       "      <td>unidades</td>\n",
       "    </tr>\n",
       "  </tbody>\n",
       "</table>\n",
       "</div>"
      ],
      "text/plain": [
       "     Producto  Cantidad        UM\n",
       "0  Producto A      1000  unidades\n",
       "1  Producto B       700  unidades\n",
       "2  Producto C       600  unidades\n",
       "3  Producto D       800  unidades"
      ]
     },
     "execution_count": 352,
     "metadata": {},
     "output_type": "execute_result"
    }
   ],
   "source": [
    "# Importar Datos\n",
    "import pandas as pd\n",
    "import numpy as np\n",
    "import math\n",
    "df_prediccion  = pd.read_csv('../data/data_predicción.csv')\n",
    "df_inventario  = pd.read_excel('../data/Inventario_actual.xlsx')\n",
    "df_lt  = pd.read_excel('../data/Lead_time_de_cada_producto.xlsx')\n",
    "df_pedidos_confirmados = pd.read_excel('../data/Pedidos_de_venta_confirmados.xlsx')\n",
    "df_compras_programadas  = pd.read_excel('../data/Ordenes_de_compra_programadas.xlsx')\n",
    "\n",
    "# Pivotar el DataFrame\n",
    "df_compras_programadas = df_compras_programadas.pivot_table(index=['Año', 'Mes', 'Fecha de entrega'], columns='Producto', values='Cantidad', aggfunc='sum', fill_value=0)\n",
    "# Resetear el índice para hacer más legible\n",
    "df_compras_programadas=df_compras_programadas.reset_index()\n",
    "meses_dict = {\n",
    "    \"Enero\": 1, \"Febrero\": 2, \"Marzo\": 3, \"Abril\": 4,\n",
    "    \"Mayo\": 5, \"Junio\": 6, \"Julio\": 7, \"Agosto\": 8,\n",
    "    \"Septiembre\": 9, \"Octubre\": 10, \"Noviembre\": 11, \"Diciembre\": 12\n",
    "}\n",
    "# Usar el diccionario para mapear los valores de la columna 'Mes'\n",
    "df_compras_programadas['Mes'] = df_compras_programadas['Mes'].map(meses_dict)\n",
    "\n",
    "meses_ordenados = [1,2,3,4,5,6,7,8,9,10,11,12]\n",
    "df_meses = pd.DataFrame({\"Año\": [2024] * 12, \"Mes\": meses_ordenados})\n",
    "df_completo = df_meses.merge(df_compras_programadas, on=[\"Año\", \"Mes\"], how=\"left\")\n",
    "df_completo[\"Mes\"] = pd.Categorical(df_completo[\"Mes\"], categories=meses_ordenados, ordered=True)\n",
    "df_compras_programadas = df_completo.sort_values([\"Año\", \"Mes\"]).reset_index(drop=True)\n",
    "# Agrupar por meses\n",
    "df_compras_programadas =df_compras_programadas.groupby(['Año', 'Mes']).sum(numeric_only = True).reset_index()\n",
    "df_compras_programadas\n",
    "\n",
    "df_inventario\n"
   ]
  },
  {
   "cell_type": "markdown",
   "metadata": {},
   "source": [
    "### Cálculo del Inventario Óptimo"
   ]
  },
  {
   "cell_type": "markdown",
   "metadata": {},
   "source": [
    "Para evitar roturas de stock y excesos de inventario, calculamos el **Stock de Seguridad (SS)** y el **Punto de Reorden (ROP)**:\n",
    "\n",
    "SS \n",
    "$$ SS = Z_{NS} \\times \\sigma_d \\times \\sqrt{T} $$\n",
    "\n",
    "- **SS**: Stock de seguridad, inventario extra para evitar quiebres.  \n",
    "- **Z_NS**: Factor Z según el nivel de servicio deseado.  \n",
    "- **σ_d**: Desviación estándar de la demanda diaria.  \n",
    "- **T**: Tiempo de entrega (Lead Time) en días.\n",
    "\n",
    "ROP\n",
    "\n",
    "$$ ROP = (\\text{Demanda proyectada en Lead Time}) + SS $$\n",
    "\n"
   ]
  },
  {
   "cell_type": "markdown",
   "metadata": {},
   "source": [
    "Cálculo de z para un nivel de confianza de  95%"
   ]
  },
  {
   "cell_type": "code",
   "execution_count": 49,
   "metadata": {},
   "outputs": [
    {
     "name": "stdout",
     "output_type": "stream",
     "text": [
      "El valor Z para un intervalo de confianza del 95% es: 1.6449\n"
     ]
    }
   ],
   "source": [
    "\n",
    "from scipy.stats import norm\n",
    "# Nivel de confianza del 95%\n",
    "confianza = 0.95\n",
    "# Cálculo del valor Z\n",
    "valor_z = norm.ppf(confianza)\n",
    "\n",
    "print(f\"El valor Z para un intervalo de confianza del 95% es: {valor_z:.4f}\")"
   ]
  },
  {
   "cell_type": "markdown",
   "metadata": {},
   "source": [
    "Cálculo de σ_d (Desviación estándar de la demanda diaria)"
   ]
  },
  {
   "cell_type": "code",
   "execution_count": 51,
   "metadata": {},
   "outputs": [
    {
     "data": {
      "text/plain": [
       "{'Predicciones_PA': np.float64(4.275780409659464),\n",
       " 'Predicciones_PB': np.float64(4.607794027008278),\n",
       " 'Predicciones_PC': np.float64(4.110401455708694),\n",
       " 'Predicciones_PD': np.float64(3.933336544318339)}"
      ]
     },
     "execution_count": 51,
     "metadata": {},
     "output_type": "execute_result"
    }
   ],
   "source": [
    "# Calculamos la desviación estandar de la demanda mensual del pronóstico realizado\n",
    "productos = ['Predicciones_PA', 'Predicciones_PB','Predicciones_PC','Predicciones_PD']\n",
    "dic_std_productos = {}\n",
    "for producto in productos:\n",
    "    d_std_mensual = df_prediccion[producto].std()\n",
    "    días_mes = 30\n",
    "    d_std_diaria = d_std_mensual / np.sqrt(d_std_mensual)\n",
    "    dic_std_productos[producto] = d_std_diaria\n",
    "\n",
    "dic_std_productos\n"
   ]
  },
  {
   "cell_type": "markdown",
   "metadata": {},
   "source": [
    "Extracción de Lead Time de productos en dicccionario"
   ]
  },
  {
   "cell_type": "code",
   "execution_count": 79,
   "metadata": {},
   "outputs": [
    {
     "data": {
      "text/plain": [
       "{'Producto A': 2, 'Producto B': 3, 'Producto C': 2, 'Producto D': 4}"
      ]
     },
     "execution_count": 79,
     "metadata": {},
     "output_type": "execute_result"
    }
   ],
   "source": [
    "\n",
    "lt_p = df_lt.set_index('Producto')['LT (meses)'].to_dict()\n",
    "lt_p "
   ]
  },
  {
   "cell_type": "markdown",
   "metadata": {},
   "source": [
    " > Cálculo de stock de seguridad (SS)"
   ]
  },
  {
   "cell_type": "code",
   "execution_count": 195,
   "metadata": {},
   "outputs": [
    {
     "data": {
      "text/html": [
       "<div>\n",
       "<style scoped>\n",
       "    .dataframe tbody tr th:only-of-type {\n",
       "        vertical-align: middle;\n",
       "    }\n",
       "\n",
       "    .dataframe tbody tr th {\n",
       "        vertical-align: top;\n",
       "    }\n",
       "\n",
       "    .dataframe thead th {\n",
       "        text-align: right;\n",
       "    }\n",
       "</style>\n",
       "<table border=\"1\" class=\"dataframe\">\n",
       "  <thead>\n",
       "    <tr style=\"text-align: right;\">\n",
       "      <th></th>\n",
       "      <th>Producto</th>\n",
       "      <th>Stock_Seguridad</th>\n",
       "    </tr>\n",
       "  </thead>\n",
       "  <tbody>\n",
       "    <tr>\n",
       "      <th>0</th>\n",
       "      <td>Producto A</td>\n",
       "      <td>10</td>\n",
       "    </tr>\n",
       "    <tr>\n",
       "      <th>1</th>\n",
       "      <td>Producto B</td>\n",
       "      <td>12</td>\n",
       "    </tr>\n",
       "    <tr>\n",
       "      <th>2</th>\n",
       "      <td>Producto C</td>\n",
       "      <td>10</td>\n",
       "    </tr>\n",
       "    <tr>\n",
       "      <th>3</th>\n",
       "      <td>Producto D</td>\n",
       "      <td>13</td>\n",
       "    </tr>\n",
       "  </tbody>\n",
       "</table>\n",
       "</div>"
      ],
      "text/plain": [
       "     Producto  Stock_Seguridad\n",
       "0  Producto A               10\n",
       "1  Producto B               12\n",
       "2  Producto C               10\n",
       "3  Producto D               13"
      ]
     },
     "execution_count": 195,
     "metadata": {},
     "output_type": "execute_result"
    }
   ],
   "source": [
    "def SS_value(valorz, lt_productos, desv_std_productos):\n",
    "        dict_SS_productos = {}\n",
    "        for key1 in lt_productos.keys() :\n",
    "                for key2 in desv_std_productos.keys():\n",
    "                        SS = valorz*desv_std_productos[key2]*np.sqrt(lt_productos [key1])\n",
    "                        # Redondear hacia el mayor entero\n",
    "                        dict_SS_productos[key1] = math.ceil(SS)    \n",
    "\n",
    "        df_SS = pd.DataFrame(list(dict_SS_productos.items()), columns= [\"Producto\", \"Stock_Seguridad\"]) \n",
    "\n",
    "        return df_SS\n",
    "\n",
    "df_stock_seguridad = SS_value(valor_z,lt_p,dic_std_productos )\n",
    "\n",
    "df_stock_seguridad\n"
   ]
  },
  {
   "cell_type": "code",
   "execution_count": 196,
   "metadata": {},
   "outputs": [
    {
     "data": {
      "text/plain": [
       "{'Producto A': 500, 'Producto B': 700, 'Producto C': 600, 'Producto D': 800}"
      ]
     },
     "execution_count": 196,
     "metadata": {},
     "output_type": "execute_result"
    }
   ],
   "source": [
    "    \n",
    "extraer_inventario_actual = df_inventario.set_index('Producto')['Cantidad'].to_dict()\n",
    "inventario_actual_dict = extraer_inventario_actual.copy()\n",
    "\n",
    "\n",
    "inventario_actual_dict"
   ]
  },
  {
   "cell_type": "markdown",
   "metadata": {},
   "source": []
  },
  {
   "cell_type": "code",
   "execution_count": 269,
   "metadata": {},
   "outputs": [
    {
     "data": {
      "text/plain": [
       "16.205479452054796"
      ]
     },
     "execution_count": 269,
     "metadata": {},
     "output_type": "execute_result"
    }
   ],
   "source": [
    "demanda_total_anual = df_prediccion[['Predicciones_PA', 'Predicciones_PB', 'Predicciones_PC', 'Predicciones_PD']].sum()\n",
    "dd =float(demanda_total_anual['Predicciones_PA']/365)\n",
    "dd"
   ]
  },
  {
   "cell_type": "code",
   "execution_count": 359,
   "metadata": {},
   "outputs": [
    {
     "name": "stderr",
     "output_type": "stream",
     "text": [
      "C:\\Users\\user\\AppData\\Local\\Temp\\ipykernel_14980\\3506019516.py:87: FutureWarning: The behavior of DataFrame concatenation with empty or all-NA entries is deprecated. In a future version, this will no longer exclude empty or all-NA columns when determining the result dtypes. To retain the old behavior, exclude the relevant entries before the concat operation.\n",
      "  df_resultados = pd.concat([df_resultados, pd.DataFrame([resultado])], ignore_index=True)\n"
     ]
    }
   ],
   "source": [
    "# Crear DataFrame para almacenar los resultados\n",
    "df_resultados = pd.DataFrame(columns=['Año', 'Mes', 'Producto', 'Demanda_Proyectada', 'Inventario_Necesario', \n",
    "                                      'Inventario_Inicial', 'Pedido_Reabastecimiento', 'Inventario_Final', 'Reorder_Point'])\n",
    "\n",
    "# Extraer el inventario inicial en un diccionario\n",
    "inventario_actual_dict = df_inventario.set_index('Producto')['Cantidad'].to_dict()\n",
    "\n",
    "# Cálculo de las demandas totales pronosticadas\n",
    "demanda_total_anual = df_prediccion[['Predicciones_PA', 'Predicciones_PB', 'Predicciones_PC', 'Predicciones_PD']].sum()\n",
    "\n",
    "# Definir los costos de pedido y de mantenimiento\n",
    "costo_por_pedido = 1000  # Costo por hacer un pedido (S)\n",
    "costo_por_unidad = 3  # Costo de mantener una unidad en inventario por año (H)\n",
    "\n",
    "# Inicializar contador de meses de espera por reabastecimiento\n",
    "contador_meses = {'Producto A': 0, 'Producto B': 0, 'Producto C': 0, 'Producto D': 0}\n",
    "pedido_reabastecimiento = {'Producto A': 0, 'Producto B': 0, 'Producto C': 0, 'Producto D': 0}\n",
    "\n",
    "# Iniciar el cálculo de inventarios y reabastecimiento\n",
    "for idx, row in df_prediccion.iterrows():\n",
    "    for producto in ['Producto A', 'Producto B', 'Producto C', 'Producto D']:\n",
    "        \n",
    "        # Extraer datos de demanda y lead time\n",
    "        demanda_proyectada = row[f'Predicciones_P{producto[9:]}']\n",
    "        demanda_anual_proyectada = demanda_total_anual[f'Predicciones_P{producto[9:]}']\n",
    "        stock_seguridad = df_stock_seguridad.loc[df_stock_seguridad['Producto'] == producto, 'Stock_Seguridad'].values[0]\n",
    "        lt = df_lt.loc[df_lt['Producto'] == producto, 'LT (meses)'].values[0]\n",
    "        lt_dias = lt * 30  # Convertir lead time a días\n",
    "        demanda_diaria = demanda_anual_proyectada / 365  # Demanda diaria\n",
    "        # Calcular el reorder point\n",
    "        reorder_point = round(demanda_diaria * lt_dias) + stock_seguridad  # Cálculo del reorder point\n",
    "        # Calcular el tamaño óptimo de pedido (Q)\n",
    "        Q = math.sqrt((2 * demanda_anual_proyectada * costo_por_pedido) / costo_por_unidad)\n",
    "\n",
    "\n",
    "        # Extraer compras programadas para el mes actual\n",
    "        compras_programadas = df_compras_programadas.loc[df_compras_programadas['Mes'] == idx + 1, producto].values[0]\n",
    "        # Manejo del inventario actual considerando el reabastecimiento después del lead time\n",
    "        if contador_meses[producto] == lt:\n",
    "            inventario_actual_dict[producto] =inventario_actual_dict[producto] + pedido_reabastecimiento[producto]  # Se suma el pedido recibido\n",
    "            contador_meses[producto] = 0  # Reiniciar contador después del lead time\n",
    "        \n",
    "        else:\n",
    "            # Si no se cumple el lead time, se incrementa el contador\n",
    "            contador_meses[producto] += 1\n",
    "            #print(f\"{producto}: Contador incrementado a {contador_meses[producto]}\")\n",
    "\n",
    "\n",
    "        inventario_actual_producto = inventario_actual_dict[producto] + compras_programadas\n",
    "\n",
    "        # Calcular inventario final después de la demanda\n",
    "        inventario_final = inventario_actual_producto - demanda_proyectada\n",
    "\n",
    "        # Cálculo del inventario necesario\n",
    "        inventario_necesario = inventario_actual_producto - demanda_proyectada\n",
    "        if inventario_necesario >= 0:\n",
    "            inventario_necesario = 0  # No es necesario más inventario\n",
    "        else:\n",
    "            inventario_necesario = abs(inventario_necesario)  # Se toma como cantidad faltante\n",
    "\n",
    "        inventario_actual_dict[producto] = inventario_final\n",
    "        # Determinar si se necesita un pedido de reabastecimiento\n",
    "        if inventario_actual_dict[producto] <= reorder_point:\n",
    "            if contador_meses[producto] == 0:  # No hay un pedido pendiente\n",
    "                pedido_reabastecimiento[producto] = Q + stock_seguridad\n",
    "                pedido_reabastecimiento_num = float(pedido_reabastecimiento[producto])\n",
    "                contador_meses[producto] = 1  # Inicia el conteo del lead time\n",
    "            else:\n",
    "                # Si ya hay un pedido pendiente, no hacer nada\n",
    "                pedido_reabastecimiento_num = 0  \n",
    "        else:\n",
    "            pedido_reabastecimiento_num = 0  # No se necesita pedido\n",
    "\n",
    "        # Guardar resultados en el DataFrame\n",
    "        resultado = {\n",
    "            'Año': int(row['año']),\n",
    "            'Mes': int(row['mes']),\n",
    "            'Producto': producto,\n",
    "            'Demanda_Proyectada': float(demanda_proyectada),\n",
    "            'Inventario_Necesario': float(inventario_necesario),\n",
    "            'Inventario_Inicial': int(inventario_actual_producto),\n",
    "            'Pedido_Reabastecimiento': int(pedido_reabastecimiento_num),\n",
    "            'Inventario_Final': float(inventario_final),\n",
    "            'Reorder_Point': float(reorder_point),\n",
    "        }\n",
    "        \n",
    "        df_resultados = pd.concat([df_resultados, pd.DataFrame([resultado])], ignore_index=True)\n",
    "\n"
   ]
  },
  {
   "cell_type": "code",
   "execution_count": 374,
   "metadata": {},
   "outputs": [
    {
     "name": "stdout",
     "output_type": "stream",
     "text": [
      "982\n",
      "1688\n",
      "868\n",
      "1589\n",
      "982\n",
      "1688\n",
      "868\n",
      "1589\n",
      "982\n",
      "1995.7828011475308\n",
      "1688\n",
      "868\n",
      "1875.475810617763\n",
      "1589\n",
      "982\n",
      "1688\n",
      "2140.5362732795197\n",
      "868\n",
      "1589\n",
      "982\n",
      "1688\n",
      "868\n",
      "1589\n",
      "1800.549533113232\n",
      "982\n",
      "1688\n",
      "868\n",
      "1589\n",
      "982\n",
      "1688\n",
      "2140.5362732795197\n",
      "868\n",
      "1589\n",
      "982\n",
      "1688\n",
      "868\n",
      "1589\n",
      "982\n",
      "1688\n",
      "868\n",
      "1589\n",
      "1800.549533113232\n",
      "982\n",
      "1688\n",
      "2140.5362732795197\n",
      "868\n",
      "1589\n",
      "982\n",
      "1688\n",
      "868\n",
      "1589\n",
      "982\n",
      "1688\n",
      "868\n",
      "1589\n"
     ]
    }
   ],
   "source": [
    "# Crear DataFrame para almacenar los resultados\n",
    "df_resultados = pd.DataFrame(columns=['Año', 'Mes', 'Producto', 'Demanda_Proyectada', 'Inventario_Necesario', \n",
    "                                      'Inventario_Inicial','Pedido_Solicitado', 'Pedido_Recibido', 'Inventario_Final', 'Reorder_Point'])\n",
    "\n",
    "# Extraer el inventario inicial en un diccionario\n",
    "inventario_actual_dict = df_inventario.set_index('Producto')['Cantidad'].to_dict()\n",
    "\n",
    "# Cálculo de las demandas totales pronosticadas\n",
    "demanda_total_anual = df_prediccion[['Predicciones_PA', 'Predicciones_PB', 'Predicciones_PC', 'Predicciones_PD']].sum()\n",
    "\n",
    "# Definir los costos de pedido y de mantenimiento\n",
    "costo_por_pedido = 1000  # Costo por hacer un pedido (S)\n",
    "costo_por_unidad = 3  # Costo de mantener una unidad en inventario por año (H)\n",
    "\n",
    "# Inicializar contador de meses de espera por reabastecimiento\n",
    "contador_meses = {'Producto A': 0, 'Producto B': 0, 'Producto C': 0, 'Producto D': 0}\n",
    "pedido_reabastecimiento = {'Producto A': 0, 'Producto B': 0, 'Producto C': 0, 'Producto D': 0}\n",
    "\n",
    "# Iniciar el cálculo de inventarios y reabastecimiento\n",
    "for idx, row in df_prediccion.iterrows():\n",
    "    for producto in ['Producto A', 'Producto B', 'Producto C', 'Producto D']:\n",
    "        \n",
    "        # Extraer datos de demanda y lead time\n",
    "        demanda_proyectada = row[f'Predicciones_P{producto[9:]}']\n",
    "        demanda_anual_proyectada = demanda_total_anual[f'Predicciones_P{producto[9:]}']\n",
    "        stock_seguridad = df_stock_seguridad.loc[df_stock_seguridad['Producto'] == producto, 'Stock_Seguridad'].values[0]\n",
    "        lt = df_lt.loc[df_lt['Producto'] == producto, 'LT (meses)'].values[0]\n",
    "        lt_dias = lt * 30  # Convertir lead time a días\n",
    "        demanda_diaria = demanda_anual_proyectada / 365  # Demanda diaria\n",
    "        # Calcular el reorder point\n",
    "        reorder_point = round(demanda_diaria * lt_dias) + stock_seguridad  # Cálculo del reorder point\n",
    "        print(reorder_point)\n",
    "        # Calcular el tamaño óptimo de pedido (Q)\n",
    "        q = math.sqrt((2 * demanda_anual_proyectada * costo_por_pedido) / costo_por_unidad)\n",
    "\n",
    "\n",
    "        # Extraer compras programadas para el mes actual\n",
    "        compras_programadas = df_compras_programadas.loc[df_compras_programadas['Mes'] == idx + 1, producto].values[0]\n",
    "        # Manejo del inventario actual considerando el reabastecimiento después del lead time\n",
    "        if contador_meses[producto] == lt:\n",
    "            inventario_actual_dict[producto] =inventario_actual_dict[producto] + pedido_reabastecimiento[producto]  # Se suma el pedido recibido\n",
    "            contador_meses[producto] = 0  # Reiniciar contador después del lead time\n",
    "            pedido_recibido = pedido_reabastecimiento[producto]\n",
    "        else:\n",
    "            pedido_recibido = 0\n",
    "            # Si no se cumple el lead time, se incrementa el contador\n",
    "            contador_meses[producto] += 1\n",
    "            \n",
    "\n",
    "\n",
    "        inventario_actual_producto = inventario_actual_dict[producto] + compras_programadas\n",
    "\n",
    "        # Calcular inventario final después de la demanda\n",
    "        inventario_final = inventario_actual_producto - demanda_proyectada\n",
    "\n",
    "        # Cálculo del inventario necesario\n",
    "        inventario_necesario = inventario_actual_producto - demanda_proyectada\n",
    "        if inventario_necesario >= 0:\n",
    "            inventario_necesario = 0  # No es necesario más inventario\n",
    "        else:\n",
    "            inventario_necesario = abs(inventario_necesario)  # Se toma como cantidad faltante\n",
    "\n",
    "        inventario_actual_dict[producto] = inventario_final\n",
    "        # Determinar si se necesita un pedido de reabastecimiento\n",
    "        #print(inventario_actual_dict[producto] <= float(reorder_point))\n",
    "        if inventario_actual_dict[producto] <= float(reorder_point):\n",
    "            if contador_meses[producto] == 0:  # No hay un pedido pendiente\n",
    "                pedido_reabastecimiento[producto] = q + stock_seguridad\n",
    "                pedido_solicitado = pedido_reabastecimiento[producto]\n",
    "                contador_meses[producto] = 1  # Inicia el conteo del lead time\n",
    "                print(pedido_solicitado)\n",
    "            else:\n",
    "                pedido_solicitado = 0  \n",
    "        else:\n",
    "            pedido_solicitado = 0  # No se necesita pedido\n",
    "\n",
    "        #\n",
    "        # Guardar resultados en el DataFrame\n",
    "        resultado = {\n",
    "            'Año': int(row['año']),\n",
    "            'Mes': int(row['mes']),\n",
    "            'Producto': producto,\n",
    "            'Demanda_Proyectada': int(demanda_proyectada),\n",
    "            'Inventario_Necesario': int(inventario_necesario),\n",
    "            'Inventario_Inicial': int(inventario_actual_producto),\n",
    "            'Pedido_Solicitado': int(pedido_solicitado),\n",
    "            'Pedido_Recibido': int(pedido_recibido),\n",
    "            'Inventario_Final': int(inventario_final),\n",
    "            'Reorder_Point': int(reorder_point),\n",
    "        }\n",
    "        \n",
    "        df_resultados = pd.concat([df_resultados, pd.DataFrame([resultado])], ignore_index=True)\n",
    "\n",
    " \n",
    "# Mostrar resultados\n",
    "#df_resultados"
   ]
  },
  {
   "cell_type": "code",
   "execution_count": null,
   "metadata": {},
   "outputs": [],
   "source": []
  },
  {
   "cell_type": "code",
   "execution_count": null,
   "metadata": {},
   "outputs": [],
   "source": []
  }
 ],
 "metadata": {
  "kernelspec": {
   "display_name": ".venv",
   "language": "python",
   "name": "python3"
  },
  "language_info": {
   "codemirror_mode": {
    "name": "ipython",
    "version": 3
   },
   "file_extension": ".py",
   "mimetype": "text/x-python",
   "name": "python",
   "nbconvert_exporter": "python",
   "pygments_lexer": "ipython3",
   "version": "3.12.9"
  }
 },
 "nbformat": 4,
 "nbformat_minor": 2
}
