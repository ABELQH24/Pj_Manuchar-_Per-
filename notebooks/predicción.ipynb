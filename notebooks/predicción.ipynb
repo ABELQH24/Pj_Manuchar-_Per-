{
 "cells": [
  {
   "cell_type": "markdown",
   "metadata": {},
   "source": [
    "# Entrenamiento y predicción de modelos"
   ]
  },
  {
   "cell_type": "markdown",
   "metadata": {},
   "source": []
  },
  {
   "cell_type": "code",
   "execution_count": null,
   "metadata": {},
   "outputs": [],
   "source": [
    "import pandas as pd\n",
    "import numpy as np\n",
    "import openpyxl\n",
    "from sklearn.model_selection import train_test_split\n",
    "from sklearn.ensemble import RandomForestRegressor\n",
    "from sklearn.metrics import mean_absolute_error\n",
    "\n",
    "# Cargar datos\n",
    "ventas_h = pd.read_csv('data/Ventas_históricas.xlsx', parse_dates=['fecha'])\n",
    "inventario = pd.read_csv('data/inventario.csv')\n",
    "ordenes = pd.read_csv('data/ordenes.csv')\n",
    "\n",
    "# Preprocesamiento de datos\n",
    "def preprocess_data(ventas):\n",
    "    ventas['mes'] = ventas['fecha'].dt.month\n",
    "    ventas['año'] = ventas['fecha'].dt.year\n",
    "    ventas = ventas.groupby(['año', 'mes', 'producto']).agg({'cantidad': 'sum'}).reset_index()\n",
    "    return ventas\n",
    "\n",
    "ventas = preprocess_data(ventas)\n",
    "\n",
    "# Dividir datos en entrenamiento y prueba\n",
    "X = ventas[['año', 'mes', 'producto']]\n",
    "y = ventas['cantidad']\n",
    "X_train, X_test, y_train, y_test = train_test_split(X, y, test_size=0.2, random_state=42)\n",
    "\n",
    "# Entrenar modelo\n",
    "modelo = RandomForestRegressor(n_estimators=100, random_state=42)\n",
    "modelo.fit(X_train, y_train)\n",
    "\n",
    "# Evaluación del modelo\n",
    "y_pred = modelo.predict(X_test)\n",
    "mae = mean_absolute_error(y_test, y_pred)\n",
    "print(f'Error absoluto medio: {mae}')\n",
    "\n",
    "# Predicción para los próximos meses\n",
    "def forecast_future(model, start_year, end_year):\n",
    "    future_months = pd.DataFrame({\n",
    "        'año': np.repeat(np.arange(start_year, end_year+1), 12),\n",
    "        'mes': list(range(1, 13)) * (end_year - start_year + 1),\n",
    "        'producto': [1] * 12 * (end_year - start_year + 1)  # Modificar según productos disponibles\n",
    "    })\n",
    "    return model.predict(future_months)\n",
    "\n",
    "predicciones = forecast_future(modelo, 2024, 2025)\n",
    "print(predicciones)\n"
   ]
  }
 ],
 "metadata": {
  "kernelspec": {
   "display_name": ".venv",
   "language": "python",
   "name": "python3"
  },
  "language_info": {
   "name": "python",
   "version": "3.12.9"
  }
 },
 "nbformat": 4,
 "nbformat_minor": 2
}
