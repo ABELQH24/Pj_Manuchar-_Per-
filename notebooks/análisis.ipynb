{
 "cells": [
  {
   "cell_type": "markdown",
   "metadata": {
    "vscode": {
     "languageId": "plaintext"
    }
   },
   "source": [
    "# Análisis exploratorio de los datos"
   ]
  },
  {
   "cell_type": "markdown",
   "metadata": {},
   "source": [
    "### Recopilación de Datos"
   ]
  },
  {
   "cell_type": "code",
   "execution_count": 36,
   "metadata": {},
   "outputs": [
    {
     "data": {
      "text/html": [
       "<div>\n",
       "<style scoped>\n",
       "    .dataframe tbody tr th:only-of-type {\n",
       "        vertical-align: middle;\n",
       "    }\n",
       "\n",
       "    .dataframe tbody tr th {\n",
       "        vertical-align: top;\n",
       "    }\n",
       "\n",
       "    .dataframe thead th {\n",
       "        text-align: right;\n",
       "    }\n",
       "</style>\n",
       "<table border=\"1\" class=\"dataframe\">\n",
       "  <thead>\n",
       "    <tr style=\"text-align: right;\">\n",
       "      <th></th>\n",
       "      <th>Fecha</th>\n",
       "      <th>Producto A</th>\n",
       "      <th>Producto B</th>\n",
       "      <th>Producto C</th>\n",
       "      <th>Producto D</th>\n",
       "    </tr>\n",
       "  </thead>\n",
       "  <tbody>\n",
       "    <tr>\n",
       "      <th>0</th>\n",
       "      <td>2018-01-01</td>\n",
       "      <td>100</td>\n",
       "      <td>120</td>\n",
       "      <td>90</td>\n",
       "      <td>80</td>\n",
       "    </tr>\n",
       "    <tr>\n",
       "      <th>1</th>\n",
       "      <td>2018-02-01</td>\n",
       "      <td>107</td>\n",
       "      <td>123</td>\n",
       "      <td>92</td>\n",
       "      <td>86</td>\n",
       "    </tr>\n",
       "    <tr>\n",
       "      <th>2</th>\n",
       "      <td>2018-03-01</td>\n",
       "      <td>111</td>\n",
       "      <td>127</td>\n",
       "      <td>97</td>\n",
       "      <td>88</td>\n",
       "    </tr>\n",
       "    <tr>\n",
       "      <th>3</th>\n",
       "      <td>2018-04-01</td>\n",
       "      <td>118</td>\n",
       "      <td>134</td>\n",
       "      <td>101</td>\n",
       "      <td>93</td>\n",
       "    </tr>\n",
       "    <tr>\n",
       "      <th>4</th>\n",
       "      <td>2018-05-01</td>\n",
       "      <td>121</td>\n",
       "      <td>139</td>\n",
       "      <td>105</td>\n",
       "      <td>97</td>\n",
       "    </tr>\n",
       "    <tr>\n",
       "      <th>...</th>\n",
       "      <td>...</td>\n",
       "      <td>...</td>\n",
       "      <td>...</td>\n",
       "      <td>...</td>\n",
       "      <td>...</td>\n",
       "    </tr>\n",
       "    <tr>\n",
       "      <th>67</th>\n",
       "      <td>2023-08-01</td>\n",
       "      <td>441</td>\n",
       "      <td>506</td>\n",
       "      <td>391</td>\n",
       "      <td>359</td>\n",
       "    </tr>\n",
       "    <tr>\n",
       "      <th>68</th>\n",
       "      <td>2023-09-01</td>\n",
       "      <td>446</td>\n",
       "      <td>512</td>\n",
       "      <td>396</td>\n",
       "      <td>363</td>\n",
       "    </tr>\n",
       "    <tr>\n",
       "      <th>69</th>\n",
       "      <td>2023-10-01</td>\n",
       "      <td>452</td>\n",
       "      <td>518</td>\n",
       "      <td>401</td>\n",
       "      <td>368</td>\n",
       "    </tr>\n",
       "    <tr>\n",
       "      <th>70</th>\n",
       "      <td>2023-11-01</td>\n",
       "      <td>457</td>\n",
       "      <td>524</td>\n",
       "      <td>406</td>\n",
       "      <td>372</td>\n",
       "    </tr>\n",
       "    <tr>\n",
       "      <th>71</th>\n",
       "      <td>2023-12-01</td>\n",
       "      <td>463</td>\n",
       "      <td>530</td>\n",
       "      <td>411</td>\n",
       "      <td>377</td>\n",
       "    </tr>\n",
       "  </tbody>\n",
       "</table>\n",
       "<p>72 rows × 5 columns</p>\n",
       "</div>"
      ],
      "text/plain": [
       "        Fecha  Producto A  Producto B  Producto C  Producto D\n",
       "0  2018-01-01         100         120          90          80\n",
       "1  2018-02-01         107         123          92          86\n",
       "2  2018-03-01         111         127          97          88\n",
       "3  2018-04-01         118         134         101          93\n",
       "4  2018-05-01         121         139         105          97\n",
       "..        ...         ...         ...         ...         ...\n",
       "67 2023-08-01         441         506         391         359\n",
       "68 2023-09-01         446         512         396         363\n",
       "69 2023-10-01         452         518         401         368\n",
       "70 2023-11-01         457         524         406         372\n",
       "71 2023-12-01         463         530         411         377\n",
       "\n",
       "[72 rows x 5 columns]"
      ]
     },
     "execution_count": 36,
     "metadata": {},
     "output_type": "execute_result"
    }
   ],
   "source": [
    "import pandas as pd\n",
    "import matplotlib.pyplot as plt\n",
    "import seaborn as sns\n",
    "\n",
    "data_Ventas_históricas = pd.read_excel(\"../data/Ventas_históricas.xlsx\")\n",
    "data_Ventas_históricas"
   ]
  },
  {
   "cell_type": "markdown",
   "metadata": {},
   "source": [
    "### Verificar tipo de datos"
   ]
  },
  {
   "cell_type": "code",
   "execution_count": null,
   "metadata": {},
   "outputs": [
    {
     "name": "stdout",
     "output_type": "stream",
     "text": [
      "<class 'pandas.core.frame.DataFrame'>\n",
      "RangeIndex: 72 entries, 0 to 71\n",
      "Data columns (total 5 columns):\n",
      " #   Column      Non-Null Count  Dtype         \n",
      "---  ------      --------------  -----         \n",
      " 0   Fecha       72 non-null     datetime64[ns]\n",
      " 1   Producto A  72 non-null     int64         \n",
      " 2   Producto B  72 non-null     int64         \n",
      " 3   Producto C  72 non-null     int64         \n",
      " 4   Producto D  72 non-null     int64         \n",
      "dtypes: datetime64[ns](1), int64(4)\n",
      "memory usage: 2.9 KB\n"
     ]
    }
   ],
   "source": [
    "#Verificar tipo de datos\n",
    "data_Ventas_históricas.info()"
   ]
  },
  {
   "cell_type": "markdown",
   "metadata": {},
   "source": [
    "### Estadísticas descriptivas"
   ]
  },
  {
   "cell_type": "code",
   "execution_count": 27,
   "metadata": {},
   "outputs": [
    {
     "data": {
      "text/html": [
       "<div>\n",
       "<style scoped>\n",
       "    .dataframe tbody tr th:only-of-type {\n",
       "        vertical-align: middle;\n",
       "    }\n",
       "\n",
       "    .dataframe tbody tr th {\n",
       "        vertical-align: top;\n",
       "    }\n",
       "\n",
       "    .dataframe thead th {\n",
       "        text-align: right;\n",
       "    }\n",
       "</style>\n",
       "<table border=\"1\" class=\"dataframe\">\n",
       "  <thead>\n",
       "    <tr style=\"text-align: right;\">\n",
       "      <th></th>\n",
       "      <th>count</th>\n",
       "      <th>mean</th>\n",
       "      <th>min</th>\n",
       "      <th>25%</th>\n",
       "      <th>50%</th>\n",
       "      <th>75%</th>\n",
       "      <th>max</th>\n",
       "      <th>std</th>\n",
       "    </tr>\n",
       "  </thead>\n",
       "  <tbody>\n",
       "    <tr>\n",
       "      <th>Fecha</th>\n",
       "      <td>72</td>\n",
       "      <td>2020-12-15 15:20:00</td>\n",
       "      <td>2018-01-01 00:00:00</td>\n",
       "      <td>2019-06-23 12:00:00</td>\n",
       "      <td>2020-12-16 12:00:00</td>\n",
       "      <td>2022-06-08 12:00:00</td>\n",
       "      <td>2023-12-01 00:00:00</td>\n",
       "      <td>NaN</td>\n",
       "    </tr>\n",
       "    <tr>\n",
       "      <th>Producto A</th>\n",
       "      <td>72.0</td>\n",
       "      <td>277.277778</td>\n",
       "      <td>100.0</td>\n",
       "      <td>184.5</td>\n",
       "      <td>275.5</td>\n",
       "      <td>367.25</td>\n",
       "      <td>463.0</td>\n",
       "      <td>106.824487</td>\n",
       "    </tr>\n",
       "    <tr>\n",
       "      <th>Producto B</th>\n",
       "      <td>72.0</td>\n",
       "      <td>319.347222</td>\n",
       "      <td>120.0</td>\n",
       "      <td>212.5</td>\n",
       "      <td>317.0</td>\n",
       "      <td>423.5</td>\n",
       "      <td>530.0</td>\n",
       "      <td>122.43655</td>\n",
       "    </tr>\n",
       "    <tr>\n",
       "      <th>Producto C</th>\n",
       "      <td>72.0</td>\n",
       "      <td>242.333333</td>\n",
       "      <td>90.0</td>\n",
       "      <td>160.0</td>\n",
       "      <td>238.5</td>\n",
       "      <td>322.25</td>\n",
       "      <td>411.0</td>\n",
       "      <td>95.294355</td>\n",
       "    </tr>\n",
       "    <tr>\n",
       "      <th>Producto D</th>\n",
       "      <td>72.0</td>\n",
       "      <td>223.458333</td>\n",
       "      <td>80.0</td>\n",
       "      <td>149.0</td>\n",
       "      <td>219.5</td>\n",
       "      <td>297.0</td>\n",
       "      <td>377.0</td>\n",
       "      <td>87.101032</td>\n",
       "    </tr>\n",
       "  </tbody>\n",
       "</table>\n",
       "</div>"
      ],
      "text/plain": [
       "           count                 mean                  min  \\\n",
       "Fecha         72  2020-12-15 15:20:00  2018-01-01 00:00:00   \n",
       "Producto A  72.0           277.277778                100.0   \n",
       "Producto B  72.0           319.347222                120.0   \n",
       "Producto C  72.0           242.333333                 90.0   \n",
       "Producto D  72.0           223.458333                 80.0   \n",
       "\n",
       "                            25%                  50%                  75%  \\\n",
       "Fecha       2019-06-23 12:00:00  2020-12-16 12:00:00  2022-06-08 12:00:00   \n",
       "Producto A                184.5                275.5               367.25   \n",
       "Producto B                212.5                317.0                423.5   \n",
       "Producto C                160.0                238.5               322.25   \n",
       "Producto D                149.0                219.5                297.0   \n",
       "\n",
       "                            max         std  \n",
       "Fecha       2023-12-01 00:00:00         NaN  \n",
       "Producto A                463.0  106.824487  \n",
       "Producto B                530.0   122.43655  \n",
       "Producto C                411.0   95.294355  \n",
       "Producto D                377.0   87.101032  "
      ]
     },
     "execution_count": 27,
     "metadata": {},
     "output_type": "execute_result"
    }
   ],
   "source": [
    "data_Ventas_históricas.describe().T"
   ]
  },
  {
   "cell_type": "markdown",
   "metadata": {},
   "source": [
    "### Gráficos para ver el comportamiento de las ventas"
   ]
  },
  {
   "cell_type": "markdown",
   "metadata": {},
   "source": [
    "En base a la gráfica se puede indentificar como es el comportamiento de las ventas en los últimos años\n",
    "\n",
    "Los resultados de la gráfica:\n",
    "Se puede ver como cada producto presenta un mismo comportamiento de crecimiento ascendente y con tendencia lineal, lo que sugiere que no hay fluctuaciones bruscas ni cambios acelerados o desaceleraciones."
   ]
  },
  {
   "cell_type": "code",
   "execution_count": 63,
   "metadata": {},
   "outputs": [
    {
     "data": {
      "image/png": "[encoded data removed]",
      "text/plain": [
       "<Figure size 800x500 with 1 Axes>"
      ]
     },
     "metadata": {},
     "output_type": "display_data"
    }
   ],
   "source": [
    "\n",
    "plt.figure(figsize=(8,5))\n",
    "\n",
    "for producto in [\"Producto A\", \"Producto B\", \"Producto C\", \"Producto D\"]:\n",
    "    plt.scatter(data_Ventas_históricas[\"Fecha\"], data_Ventas_históricas[producto], alpha= 0.8, label=producto)\n",
    "\n",
    "plt.title(\"Ventas históricas por producto 2018 - 2023\")\n",
    "plt.xlabel(\"Fecha\")\n",
    "plt.ylabel(\"Ventas históricas\")\n",
    "plt.legend()\n",
    "plt.grid(True)\n",
    "plt.show()"
   ]
  },
  {
   "cell_type": "markdown",
   "metadata": {},
   "source": [
    "### Conclusión"
   ]
  },
  {
   "cell_type": "markdown",
   "metadata": {},
   "source": [
    "El patrón de demanda que se observó en cada uno de los producto es el Lineal.\n",
    "\n",
    "Descripción: La demanda crece o decrece de manera constante a lo largo del tiempo. Este patrón es común cuando un producto tiene una demanda predecible y constante."
   ]
  }
 ],
 "metadata": {
  "kernelspec": {
   "display_name": ".venv",
   "language": "python",
   "name": "python3"
  },
  "language_info": {
   "codemirror_mode": {
    "name": "ipython",
    "version": 3
   },
   "file_extension": ".py",
   "mimetype": "text/x-python",
   "name": "python",
   "nbconvert_exporter": "python",
   "pygments_lexer": "ipython3",
   "version": "3.12.9"
  }
 },
 "nbformat": 4,
 "nbformat_minor": 2
}
